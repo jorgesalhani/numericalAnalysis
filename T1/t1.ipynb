{
 "cells": [
  {
   "cell_type": "code",
   "execution_count": 5,
   "metadata": {},
   "outputs": [],
   "source": [
    "import numpy as np\n",
    "import itertools as itt\n",
    "import time"
   ]
  },
  {
   "cell_type": "markdown",
   "metadata": {},
   "source": [
    "## Trabalho 1 - Cálculo Numérico"
   ]
  },
  {
   "cell_type": "markdown",
   "metadata": {},
   "source": [
    "Jorge Augusto Salgado Salhani\n",
    "\n",
    "#USP: 8927418"
   ]
  },
  {
   "cell_type": "markdown",
   "metadata": {},
   "source": [
    "### Questão 1"
   ]
  },
  {
   "cell_type": "markdown",
   "metadata": {},
   "source": []
  },
  {
   "cell_type": "code",
   "execution_count": 50,
   "metadata": {},
   "outputs": [],
   "source": [
    "\"\"\"\n",
    "Retorna decomposição da matriz A em LU utilizando eliminação de Gauss\n",
    "\"\"\"\n",
    "def func1(A):\n",
    "  n = A.shape[0]\n",
    "  U = A.copy()\n",
    "  L = np.eye(n)\n",
    "\n",
    "  # j: indice de iteração sobre colunas\n",
    "  for j in range(n-1):\n",
    "\n",
    "    # i: indice de iteração sobre linhas, ao longo do triangulo superior (i > j)\n",
    "    for i in range(j+1, n):\n",
    "\n",
    "      L[i,j] = U[i,j] / U[j,j]\n",
    "      U[i, j:n] = U[i, j:n] - L[i,j] * U[j, j:n]\n",
    "\n",
    "  return (L, U)"
   ]
  },
  {
   "cell_type": "code",
   "execution_count": null,
   "metadata": {},
   "outputs": [],
   "source": [
    "# Teste 1: utilização da função func1\n",
    "A = np.array([\n",
    "  [2, -3, -1],\n",
    "  [3, 2, -5],\n",
    "  [2, 4, -1]\n",
    "])\n",
    "\n",
    "LU = func1(A)\n",
    "L = LU[0]\n",
    "U = LU[1]"
   ]
  },
  {
   "cell_type": "code",
   "execution_count": null,
   "metadata": {},
   "outputs": [
    {
     "name": "stdout",
     "output_type": "stream",
     "text": [
      "Matriz L = \n",
      "[[1.         0.         0.        ]\n",
      " [1.5        1.         0.        ]\n",
      " [1.         1.16666667 1.        ]]\n",
      "\n",
      "Matriz U = \n",
      "[[ 2 -3 -1]\n",
      " [ 0  6 -3]\n",
      " [ 0  0  3]]\n",
      "\n",
      "Original A = \n",
      "[[ 2 -3 -1]\n",
      " [ 3  2 -5]\n",
      " [ 2  4 -1]]\n",
      "\n",
      "Obtido LU = \n",
      "[[ 2.  -3.  -1. ]\n",
      " [ 3.   1.5 -4.5]\n",
      " [ 2.   4.  -1.5]]\n"
     ]
    }
   ],
   "source": [
    "print('Matriz L = ')\n",
    "print(L)\n",
    "print()\n",
    "\n",
    "print('Matriz U = ')\n",
    "print(U)\n",
    "print()\n",
    "\n",
    "# Como validação, podemos fazer o retorno a A \n",
    "# de modo que A = LU\n",
    "print('Original A = ')\n",
    "print(A)\n",
    "print()\n",
    "\n",
    "print('Obtido LU = ')\n",
    "print(np.matmul(L,U))"
   ]
  },
  {
   "cell_type": "code",
   "execution_count": null,
   "metadata": {},
   "outputs": [],
   "source": [
    "\"\"\"\n",
    "Retorna decomposição da matriz A em LU utilizando eliminação de Gauss\n",
    "\"\"\"\n",
    "def func2(A, p):\n",
    "  n = A.shape[0]\n",
    "  U = A.copy()\n",
    "  L = np.eye(n)\n",
    "\n",
    "  # j: indice de iteração sobre as colunas \n",
    "  for j in range(n-1):\n",
    "    \n",
    "    v = min(n, j+p+1)\n",
    "\n",
    "    # i: indice de iteração sobre as linhas no triangulo superior (i > j)\n",
    "    #  mas considerando como final o minimo entre n (linha toda)\n",
    "    #  e v (valor ...)\n",
    "    for i in range(j+1, v):\n",
    "      L[i,j] = U[i,j] / U[j,j]\n",
    "      U[i, j:v] = U[i, j:v] - L[i,j] * U[j, j:v]\n",
    "\n",
    "  return (L, U)"
   ]
  },
  {
   "cell_type": "code",
   "execution_count": 59,
   "metadata": {},
   "outputs": [],
   "source": [
    "# Teste 1: utilização da função func2\n",
    "A = np.array([\n",
    "  [2, -3, -1],\n",
    "  [3, 2, -5],\n",
    "  [2, 4, -1]\n",
    "])\n",
    "\n",
    "p = 1\n",
    "\n",
    "LU = func2(A, p)\n",
    "L = LU[0]\n",
    "U = LU[1]"
   ]
  },
  {
   "cell_type": "code",
   "execution_count": 60,
   "metadata": {},
   "outputs": [
    {
     "name": "stdout",
     "output_type": "stream",
     "text": [
      "Matriz L = \n",
      "[[1.         0.         0.        ]\n",
      " [1.5        1.         0.        ]\n",
      " [0.         0.66666667 1.        ]]\n",
      "\n",
      "Matriz U = \n",
      "[[ 2 -3 -1]\n",
      " [ 0  6 -5]\n",
      " [ 2  0  2]]\n",
      "\n",
      "Original A = \n",
      "[[ 2 -3 -1]\n",
      " [ 3  2 -5]\n",
      " [ 2  4 -1]]\n",
      "\n",
      "Obtido LU = \n",
      "[[ 2.         -3.         -1.        ]\n",
      " [ 3.          1.5        -6.5       ]\n",
      " [ 2.          4.         -1.33333333]]\n"
     ]
    }
   ],
   "source": [
    "print('Matriz L = ')\n",
    "print(L)\n",
    "print()\n",
    "\n",
    "print('Matriz U = ')\n",
    "print(U)\n",
    "print()\n",
    "\n",
    "# Como validação, podemos fazer o retorno a A \n",
    "# de modo que A = LU\n",
    "print('Original A = ')\n",
    "print(A)\n",
    "print()\n",
    "\n",
    "print('Obtido LU = ')\n",
    "print(np.matmul(L,U))"
   ]
  },
  {
   "cell_type": "markdown",
   "metadata": {},
   "source": [
    "Notamos que os resultados são compatíveis\n",
    "\n",
    "A diferença entre as funções ocorre na quantidade de iterações e cálculos que são realizados para cada valor do triangulo superior da matriz A"
   ]
  },
  {
   "cell_type": "code",
   "execution_count": 61,
   "metadata": {},
   "outputs": [],
   "source": [
    "n = 2000\n",
    "p = 2\n",
    "A = np.zeros((n,n))\n",
    "\n",
    "for i in range(n):\n",
    "  for j in range(max(0, i-p), min(n, i+p+1)):\n",
    "    A[i,j] = np.random.normal()"
   ]
  },
  {
   "cell_type": "code",
   "execution_count": 66,
   "metadata": {},
   "outputs": [
    {
     "name": "stdout",
     "output_type": "stream",
     "text": [
      "Teste func1\n",
      "17.540777921676636\n",
      "\n",
      "Teste func2\n",
      "0.04382967948913574\n"
     ]
    }
   ],
   "source": [
    "start_time = time.time()\n",
    "(L, U) = func1(A)\n",
    "end_time = time.time()\n",
    "print('Teste func1')\n",
    "print(end_time - start_time)\n",
    "\n",
    "print()\n",
    "\n",
    "start_time = time.time()\n",
    "print('Teste func2')\n",
    "(L_, U_) = func2(A, p)\n",
    "end_time = time.time()\n",
    "print(end_time - start_time)"
   ]
  },
  {
   "cell_type": "code",
   "execution_count": 67,
   "metadata": {},
   "outputs": [
    {
     "name": "stdout",
     "output_type": "stream",
     "text": [
      "Aproximação da solução via func1\n",
      "1.4752133367106018e-12\n",
      "\n",
      "Aproximação da solução via func2\n",
      "1.4752133367106018e-12\n"
     ]
    }
   ],
   "source": [
    "# teste convergência via norma\n",
    "print('Aproximação da solução via func1')\n",
    "print(np.linalg.norm(L @ U - A))\n",
    "print()\n",
    "print('Aproximação da solução via func2')\n",
    "print(np.linalg.norm(L_ @ U_ - A))"
   ]
  },
  {
   "cell_type": "markdown",
   "metadata": {},
   "source": [
    "Como os resultados são compatíveis quando comparadas as suas normas em relação à solução real (A = LU) Notamos que a maior diferença ocorre na otimização de tempo de processamento"
   ]
  },
  {
   "cell_type": "markdown",
   "metadata": {},
   "source": [
    "Isso se deve à redução do número de iterações da matriz triangular superior ..."
   ]
  },
  {
   "cell_type": "markdown",
   "metadata": {},
   "source": [
    "## Questão 2"
   ]
  },
  {
   "cell_type": "markdown",
   "metadata": {},
   "source": [
    "Definições das classes para resolução via métodos diretos e iterativos que serão úteis neste e na questão 3"
   ]
  },
  {
   "cell_type": "code",
   "execution_count": 94,
   "metadata": {},
   "outputs": [],
   "source": [
    "class IterativeMethods:\n",
    "  def __init__(self, max_it = 5000, epsilon = 0.001, printCG = False) -> None:\n",
    "    self.MAX_ITERATION = max_it\n",
    "    self.epsilon = epsilon\n",
    "    self.printCG = printCG\n",
    "\n",
    "  def solve_gauss_jacobi(self, A, b, x0):\n",
    "    n = len(A)\n",
    "    Dinv = np.diagflat([1/A[i,i] for i in range(n)])\n",
    "    I = np.eye(n)\n",
    "    \n",
    "    C = I - np.matmul(Dinv, A)\n",
    "    g = np.matmul(Dinv, b)\n",
    "\n",
    "    if (self.printCG):\n",
    "      print('C = ')\n",
    "      print(C)\n",
    "      print()\n",
    "\n",
    "      print('g = ')\n",
    "      print(g)\n",
    "    \n",
    "    norm = np.linalg.norm(b - np.matmul(A,x0))\n",
    "\n",
    "    k = 0\n",
    "    while norm > self.epsilon and k <= self.MAX_ITERATION:\n",
    "      x0 = np.matmul(C,x0) + g\n",
    "      k += 1\n",
    "      norm = np.linalg.norm(np.matmul(A,x0) - b)\n",
    "    \n",
    "    if k >= self.MAX_ITERATION:\n",
    "      raise Exception('Cálculo não converge')\n",
    "    \n",
    "    return x0\n",
    "\n",
    "  # TODO não convergindo\n",
    "  def solve_gauss_seidel(self, A, b, x0):\n",
    "    n = len(A)\n",
    "    L = np.tril(A)\n",
    "    U = np.triu(A,1)\n",
    "    \n",
    "    Linv = - np.linalg.inv(L)\n",
    "    C = - np.matmul(Linv, U)\n",
    "    g = np.matmul(Linv, b)\n",
    "\n",
    "    if (self.printCG):\n",
    "      print('C = ')\n",
    "      print(C)\n",
    "      print()\n",
    "\n",
    "      print('g = ')\n",
    "      print(g)\n",
    "\n",
    "    norm = np.linalg.norm(np.matmul(A,x0) - b)\n",
    "\n",
    "    k = 0\n",
    "    while norm > self.epsilon and k <= self.MAX_ITERATION:\n",
    "      x0 = np.matmul(C,x0) + g\n",
    "      k += 1\n",
    "      norm = np.linalg.norm(np.matmul(A,x0) - b)\n",
    "    \n",
    "    if k >= self.MAX_ITERATION:\n",
    "      raise Exception('Cálculo não converge')\n",
    "    \n",
    "    return x0\n",
    "  \n",
    "  def solve_gradientes(self, A, b, x0):\n",
    "    n = len(A)\n",
    "    r = b - np.matmul(A, x0)\n",
    "    norm = np.linalg.norm(r)\n",
    "\n",
    "    k = 0\n",
    "    while norm > self.epsilon and k <= self.MAX_ITERATION:\n",
    "      rT = r.transpose()\n",
    "      Ar = np.matmul(A, r)\n",
    "      alpha = np.dot(rT, r) / np.dot(r, Ar)\n",
    "      x0 += alpha * r\n",
    "      r = b - np.matmul(A, x0)\n",
    "      norm = np.linalg.norm(r)\n",
    "      \n",
    "    if k >= self.MAX_ITERATION:\n",
    "      raise Exception('Cálculo não converge')\n",
    "    \n",
    "    return x0"
   ]
  },
  {
   "cell_type": "code",
   "execution_count": 95,
   "metadata": {},
   "outputs": [],
   "source": [
    "A = np.array([\n",
    "  [4,-2,1,0,0,0],\n",
    "  [-2,7,-2,1,0,0],\n",
    "  [1,-2,7,-2,1,0],\n",
    "  [0,1,-2,7,-2,1],\n",
    "  [0,0,1,-2,7,-2],\n",
    "  [0,0,0,1,-2,4]\n",
    "])\n",
    "\n",
    "b = np.array([-1,-2,1,1,-2,-1])\n"
   ]
  },
  {
   "cell_type": "markdown",
   "metadata": {},
   "source": [
    "Questão 2a"
   ]
  },
  {
   "cell_type": "code",
   "execution_count": 96,
   "metadata": {},
   "outputs": [],
   "source": [
    "itm = IterativeMethods(printCG=True)"
   ]
  },
  {
   "cell_type": "code",
   "execution_count": 97,
   "metadata": {},
   "outputs": [
    {
     "name": "stdout",
     "output_type": "stream",
     "text": [
      "C = \n",
      "[[ 0.          0.5        -0.25        0.          0.          0.        ]\n",
      " [ 0.28571429  0.          0.28571429 -0.14285714  0.          0.        ]\n",
      " [-0.14285714  0.28571429  0.          0.28571429 -0.14285714  0.        ]\n",
      " [ 0.         -0.14285714  0.28571429  0.          0.28571429 -0.14285714]\n",
      " [ 0.          0.         -0.14285714  0.28571429  0.          0.28571429]\n",
      " [ 0.          0.          0.         -0.25        0.5         0.        ]]\n",
      "\n",
      "g = \n",
      "[-0.25       -0.28571429  0.14285714  0.14285714 -0.28571429 -0.25      ]\n"
     ]
    }
   ],
   "source": [
    "x0 = np.array([0,0,0,0,0,0])\n",
    "\n",
    "# Utilizando Gauss Jacobi\n",
    "x = itm.solve_gauss_jacobi(A, b, x0)\n"
   ]
  },
  {
   "cell_type": "code",
   "execution_count": 98,
   "metadata": {},
   "outputs": [
    {
     "name": "stdout",
     "output_type": "stream",
     "text": [
      "Solução Ax = b\n",
      "Vetor x = \n",
      "[-0.50423043 -0.39819489  0.22117498  0.22117498 -0.39819489 -0.50423043]\n"
     ]
    }
   ],
   "source": [
    "print(\"Solução Ax = b\")\n",
    "print(\"Vetor x = \")\n",
    "print(x.transpose())"
   ]
  },
  {
   "cell_type": "code",
   "execution_count": 99,
   "metadata": {},
   "outputs": [
    {
     "name": "stdout",
     "output_type": "stream",
     "text": [
      "Aproximação da solução via func2\n",
      "0.0009438802773593731\n"
     ]
    }
   ],
   "source": [
    "# Validação de resultado correto\n",
    "#  via comparativo da norma Ax - b = 0\n",
    "print('Aproximação da solução via func2')\n",
    "print(np.linalg.norm(A @ x - b))"
   ]
  },
  {
   "cell_type": "code",
   "execution_count": 100,
   "metadata": {},
   "outputs": [
    {
     "name": "stdout",
     "output_type": "stream",
     "text": [
      "C = \n",
      "[[-0.         -0.5         0.25       -0.         -0.         -0.        ]\n",
      " [-0.         -0.14285714 -0.21428571  0.14285714 -0.         -0.        ]\n",
      " [-0.          0.03061224 -0.09693878 -0.24489796  0.14285714 -0.        ]\n",
      " [-0.          0.02915452  0.00291545 -0.09037901 -0.24489796  0.14285714]\n",
      " [-0.          0.00395668  0.01468138  0.00916285 -0.09037901 -0.24489796]\n",
      " [-0.         -0.00531029  0.00661183  0.02717618  0.01603499 -0.15816327]]\n",
      "\n",
      "g = \n",
      "[ 0.25        0.35714286 -0.07653061 -0.21574344  0.23500625  0.42143898]\n",
      "\n",
      "Cálculo não converge\n"
     ]
    }
   ],
   "source": [
    "x0 = np.array([0,0,0,0,0,0])\n",
    "\n",
    "# Utilizando Gauss Seidel\n",
    "try:\n",
    "  itm.solve_gauss_seidel(A, b, x0)\n",
    "except Exception as exc:\n",
    "  print()\n",
    "  print(exc)\n"
   ]
  },
  {
   "cell_type": "markdown",
   "metadata": {},
   "source": [
    "Questão 2b"
   ]
  },
  {
   "cell_type": "code",
   "execution_count": 101,
   "metadata": {},
   "outputs": [],
   "source": [
    "itm = IterativeMethods(max_it=10000, epsilon=1E-8)"
   ]
  },
  {
   "cell_type": "code",
   "execution_count": 102,
   "metadata": {},
   "outputs": [
    {
     "ename": "Exception",
     "evalue": "Cálculo não converge",
     "output_type": "error",
     "traceback": [
      "\u001b[1;31m---------------------------------------------------------------------------\u001b[0m",
      "\u001b[1;31mException\u001b[0m                                 Traceback (most recent call last)",
      "Cell \u001b[1;32mIn[102], line 5\u001b[0m\n\u001b[0;32m      2\u001b[0m xGJ \u001b[38;5;241m=\u001b[39m itm\u001b[38;5;241m.\u001b[39msolve_gauss_jacobi(A, b, x0)\n\u001b[0;32m      4\u001b[0m x0 \u001b[38;5;241m=\u001b[39m np\u001b[38;5;241m.\u001b[39marray([\u001b[38;5;241m1\u001b[39m,\u001b[38;5;241m0\u001b[39m,\u001b[38;5;241m0\u001b[39m,\u001b[38;5;241m0\u001b[39m,\u001b[38;5;241m0\u001b[39m,\u001b[38;5;241m0\u001b[39m])\n\u001b[1;32m----> 5\u001b[0m xGS \u001b[38;5;241m=\u001b[39m \u001b[43mitm\u001b[49m\u001b[38;5;241;43m.\u001b[39;49m\u001b[43msolve_gauss_seidel\u001b[49m\u001b[43m(\u001b[49m\u001b[43mA\u001b[49m\u001b[43m,\u001b[49m\u001b[43m \u001b[49m\u001b[43mb\u001b[49m\u001b[43m,\u001b[49m\u001b[43m \u001b[49m\u001b[43mx0\u001b[49m\u001b[43m)\u001b[49m\n",
      "Cell \u001b[1;32mIn[94], line 63\u001b[0m, in \u001b[0;36mIterativeMethods.solve_gauss_seidel\u001b[1;34m(self, A, b, x0)\u001b[0m\n\u001b[0;32m     60\u001b[0m   norm \u001b[38;5;241m=\u001b[39m np\u001b[38;5;241m.\u001b[39mlinalg\u001b[38;5;241m.\u001b[39mnorm(np\u001b[38;5;241m.\u001b[39mmatmul(A,x0) \u001b[38;5;241m-\u001b[39m b)\n\u001b[0;32m     62\u001b[0m \u001b[38;5;28;01mif\u001b[39;00m k \u001b[38;5;241m>\u001b[39m\u001b[38;5;241m=\u001b[39m \u001b[38;5;28mself\u001b[39m\u001b[38;5;241m.\u001b[39mMAX_ITERATION:\n\u001b[1;32m---> 63\u001b[0m   \u001b[38;5;28;01mraise\u001b[39;00m \u001b[38;5;167;01mException\u001b[39;00m(\u001b[38;5;124m'\u001b[39m\u001b[38;5;124mCálculo não converge\u001b[39m\u001b[38;5;124m'\u001b[39m)\n\u001b[0;32m     65\u001b[0m \u001b[38;5;28;01mreturn\u001b[39;00m x0\n",
      "\u001b[1;31mException\u001b[0m: Cálculo não converge"
     ]
    }
   ],
   "source": [
    "x0 = np.array([0,0,0,0,0,0])\n",
    "xGJ = itm.solve_gauss_jacobi(A, b, x0)\n",
    "\n",
    "x0 = np.array([1,0,0,0,0,0])\n",
    "xGS = itm.solve_gauss_seidel(A, b, x0)"
   ]
  },
  {
   "cell_type": "markdown",
   "metadata": {},
   "source": [
    "Questão 3"
   ]
  },
  {
   "cell_type": "markdown",
   "metadata": {},
   "source": [
    "Definição da classe para calculo de zeros de função"
   ]
  },
  {
   "cell_type": "code",
   "execution_count": 103,
   "metadata": {},
   "outputs": [],
   "source": [
    "class FuncZeros:\n",
    "  def __init__(self, max_it = 5000, epsilon = 0.001) -> None:\n",
    "    self.MAX_ITERATION = max_it\n",
    "    self.epsilon = epsilon\n",
    "\n",
    "  def bissection(self, func, a, b):\n",
    "    x = (a+b)/2\n",
    "    erro = np.inf\n",
    "\n",
    "    while erro > self.epsilon:\n",
    "      if func(a) * func(x) < 0: b = x \n",
    "      else: a = x\n",
    "\n",
    "      x0 = x\n",
    "      x = (a+b)/2\n",
    "      erro = abs(x-x0)\n",
    "\n",
    "    return x\n",
    "  \n",
    "  def newton(self, func, dfunc, x):\n",
    "    k = 0\n",
    "    while k < self.MAX_ITERATION:\n",
    "      dx = func(x) / dfunc(x)\n",
    "      x -= dx\n",
    "      print(x)\n",
    "      if abs(dx) < self.epsilon:\n",
    "        return x\n",
    "      \n",
    "    return None"
   ]
  },
  {
   "cell_type": "markdown",
   "metadata": {},
   "source": [
    "Questão 3a"
   ]
  },
  {
   "cell_type": "markdown",
   "metadata": {},
   "source": [
    "O momento em que a trajetória do projétil encontra o morro, conhecendo-se as funções que descrevem o morro e o projétil pode ser encontrada igualando ambas funções de modo que"
   ]
  },
  {
   "cell_type": "markdown",
   "metadata": {},
   "source": [
    "$$\n",
    "p(x) = -x^{4}+7.7x^{3}-18x^{2}+13.6x\n",
    "$$\n",
    "\n",
    "$$\n",
    "q(x) = -x^{2}+5x+0.75\n",
    "$$\n",
    "\n",
    "$$\n",
    "p(x) = q(x)\n",
    "$$"
   ]
  },
  {
   "cell_type": "markdown",
   "metadata": {},
   "source": [
    "Isso acontece quando\n",
    "\n",
    "$$\n",
    "-x^{2}+5x+0.75 = -x^{4}+7.7x^{3}-18x^{2}+13.6x\n",
    "$$"
   ]
  },
  {
   "cell_type": "markdown",
   "metadata": {},
   "source": [
    "Ou, reformulando para termos uma igualdade em 0\n",
    "\n",
    "$$\n",
    "-x^4 + 7.7x^3 - 17x^2 + 8.6x - 0.75 = 0\n",
    "$$"
   ]
  },
  {
   "cell_type": "markdown",
   "metadata": {},
   "source": [
    "Comotal função possui 4 raízes e queremos apenas o momento em que o projétil encontra o morro, queremos a solução para o intervalo [3,3.2] (conforme na figura na questão)"
   ]
  },
  {
   "cell_type": "markdown",
   "metadata": {},
   "source": [
    "Apenas como comparativo, notamos que o valor que objetivamos está em $x \\approx 3.173$, o que já valida o intervalo utilizado"
   ]
  },
  {
   "cell_type": "markdown",
   "metadata": {},
   "source": [
    "![image.png](questao3a.png)"
   ]
  },
  {
   "cell_type": "code",
   "execution_count": 111,
   "metadata": {},
   "outputs": [
    {
     "name": "stdout",
     "output_type": "stream",
     "text": [
      "Sendo a igualdade f(x0) = 0\n",
      "x0 = 3.17265625\n",
      "\n",
      "Sendo p(x0) altura\n",
      "p(x0) =  6.546101510113125\n"
     ]
    }
   ],
   "source": [
    "# max_it = 5: máximo de iterações\n",
    "fz = FuncZeros(max_it=5, epsilon=0.001)\n",
    "\n",
    "p = lambda x : -x**4+7.7*(x**3)-18*(x**2)+13.6*x\n",
    "q = lambda x : -x**2+5*x+0.75\n",
    "\n",
    "f = lambda x : -x**4 + 7.7*(x**3) - 17*(x**2) + 8.6*x - 0.75\n",
    "a = 3\n",
    "b = 3.2\n",
    "x0 = fz.bissection(f, a, b)\n",
    "\n",
    "print('Sendo a igualdade f(x0) = 0')\n",
    "print('x0 =', x0)\n",
    "print()\n",
    "print('Sendo p(x0) altura')\n",
    "print('p(x0) = ', p(x0))\n"
   ]
  },
  {
   "cell_type": "markdown",
   "metadata": {},
   "source": [
    "Que conferem com os resultados esperados via análise gráfica"
   ]
  },
  {
   "cell_type": "markdown",
   "metadata": {},
   "source": [
    "Questão 3 b"
   ]
  },
  {
   "cell_type": "code",
   "execution_count": null,
   "metadata": {},
   "outputs": [],
   "source": []
  }
 ],
 "metadata": {
  "kernelspec": {
   "display_name": "Python 3",
   "language": "python",
   "name": "python3"
  },
  "language_info": {
   "codemirror_mode": {
    "name": "ipython",
    "version": 3
   },
   "file_extension": ".py",
   "mimetype": "text/x-python",
   "name": "python",
   "nbconvert_exporter": "python",
   "pygments_lexer": "ipython3",
   "version": "3.11.1"
  }
 },
 "nbformat": 4,
 "nbformat_minor": 2
}
