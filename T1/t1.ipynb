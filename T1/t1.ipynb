{
 "cells": [
  {
   "cell_type": "code",
   "execution_count": 1,
   "metadata": {},
   "outputs": [],
   "source": [
    "import numpy as np\n",
    "import itertools as itt\n",
    "import time\n",
    "import matplotlib.pyplot as plt"
   ]
  },
  {
   "cell_type": "markdown",
   "metadata": {},
   "source": [
    "## Trabalho 1 - Cálculo Numérico"
   ]
  },
  {
   "cell_type": "markdown",
   "metadata": {},
   "source": [
    "Jorge Augusto Salgado Salhani\n",
    "\n",
    "Nro USP: 8927418"
   ]
  },
  {
   "cell_type": "markdown",
   "metadata": {},
   "source": [
    "### Questão 1"
   ]
  },
  {
   "cell_type": "markdown",
   "metadata": {},
   "source": [
    "Definição da classe para solução via métodos diretos (para organização e comparação, visto que não serão explicitamente necessárias)"
   ]
  },
  {
   "cell_type": "code",
   "execution_count": 10,
   "metadata": {},
   "outputs": [],
   "source": [
    "\"\"\"\n",
    "Classe DirectMethods\n",
    "\n",
    "Solução de sistemas lineares via métodos diretos\n",
    "\"\"\"\n",
    "class DirectMethods:\n",
    "\n",
    "  def progressive_substituition(L, b):\n",
    "    \"\"\" Obter o vetor x tal que torne verdadeira a equação Lx = b\n",
    "\n",
    "    L : ndarray\n",
    "      matriz triangular inferior 2D com tipos float\n",
    "    b : ndarray\n",
    "      vetor de resultado 1D com tipos float\n",
    "    \"\"\"\n",
    "    n = len(L)\n",
    "\n",
    "    x = []\n",
    "    for i in range(n):\n",
    "      x_i = b[i]\n",
    "\n",
    "      for j in range(i):\n",
    "        x_i -= L[i][j] * x[j]\n",
    "\n",
    "      x_i /= L[i][i]\n",
    "      x.append(x_i)\n",
    "    \n",
    "    return np.array(x)\n",
    "\n",
    "  def regressive_substitution(U, b):\n",
    "    \"\"\" Obter o vetor x tal que torne verdadeira a equação Ux = b\n",
    "\n",
    "    U : ndarray\n",
    "      matriz triangular superior 2D com tipos float\n",
    "    b : ndarray\n",
    "      vetor de resultado 1D com tipos float\n",
    "    \"\"\"\n",
    "    n = len(U)\n",
    "\n",
    "    x = [0]*n\n",
    "    for i in range(n-1,-1,-1):\n",
    "      x_i = b[i]\n",
    "\n",
    "      for j in range(i, n):\n",
    "        x_i -= U[i][j] * x[j]\n",
    "\n",
    "      x_i /= U[i][i]\n",
    "      x[i] = x_i\n",
    "\n",
    "    return np.array(x)\n",
    "\n",
    "  def decomposition_lu(A):\n",
    "    \"\"\" Obter o vetor decomposição LU da matriz A tal que A = LU\n",
    "\n",
    "    A : ndarray\n",
    "      2D array com tipos float\n",
    "    \"\"\"\n",
    "    n = len(A)\n",
    "\n",
    "    L = np.identity(n)\n",
    "    U = np.zeros((n,n))\n",
    "\n",
    "    for i in range(n):\n",
    "      for j in range(n):\n",
    "\n",
    "        if i <= j:\n",
    "          sumTerm = np.sum(L[i,:i] * U[:i,j])\n",
    "          U[i,j] = A[i][j] - sumTerm\n",
    "\n",
    "        if i > j:\n",
    "          sumTerm = np.sum(L[i,:j] * U[:j,j])\n",
    "          L[i,j] = (A[i,j] - sumTerm) / U[j,j]\n",
    "\n",
    "    return {'L': L, 'U': U}\n",
    "\n",
    "  def decomposition_cholesky(A):\n",
    "    \"\"\" Obter o vetor decomposição H da matriz A tal que A = H(H^T) via Cholesky\n",
    "\n",
    "    A : ndarray\n",
    "      2D array com tipos float\n",
    "    \"\"\"\n",
    "    n = len(A)\n",
    "    H = np.zeros((n,n))\n",
    "\n",
    "    for j in range(n):\n",
    "      h_ij = 0\n",
    "      for i in range(j,n):\n",
    "\n",
    "        if i == j:\n",
    "          h_ij = np.sqrt(A[i,j] - sum(H[i,:i]**2))\n",
    "        else:\n",
    "          h_ij = (A[i,j] - sum(H[i,:i]*H[j,:i])) / H[j,j]\n",
    "\n",
    "        H[i,j] = h_ij\n",
    "\n",
    "    return H\n",
    "\n",
    "  def gauss_elimination(A, b):\n",
    "    \"\"\" Obter a matriz triangular superior de A via eliminação de Gauss\n",
    "\n",
    "    A : ndarray\n",
    "      2D array com tipos float\n",
    "    b : ndarray\n",
    "      vetor de resultado 1D com tipos float\n",
    "    \"\"\"\n",
    "    n = len(A)\n",
    "\n",
    "    for j in range(n):\n",
    "      # Com pivot\n",
    "      pivot = max(abs(A[j:,j]))\n",
    "      # indice da linha que contem 'pivot' em seu triangulo inf\n",
    "      p = [k for k in range(j, n) if pivot == A[k,j]]\n",
    "      if not p: continue\n",
    "      p = p[0]\n",
    "      temp = np.array(A[p,:])\n",
    "      A[p,:] = A[j,:]\n",
    "      A[j,:] = temp\n",
    "\n",
    "      temp = b[j]\n",
    "      b[j] = b[p]\n",
    "      b[p] = temp\n",
    "\n",
    "      # print(A[j,j])\n",
    "      for i in range(j+1,n):\n",
    "        m_ij = - A[i,j] / A[j,j]\n",
    "        A[i,j:] = A[i,j:] + m_ij * A[j,j:]\n",
    "\n",
    "        b[i] = b[i] + m_ij * b[j]\n",
    "\n",
    "    return {'A': A, 'b': b}\n",
    "  \n",
    "  def inverse(A):\n",
    "    \"\"\" Obter a matriz inversa de A (A^(-1))\n",
    "\n",
    "    A : ndarray\n",
    "      2D array com tipos float\n",
    "    \"\"\"\n",
    "    n = len(A)\n",
    "    I = np.eye(n)\n",
    "\n",
    "    v = []\n",
    "\n",
    "    LU = DirectMethods.decomposition_lu(A)\n",
    "\n",
    "    for e in I:\n",
    "      y = DirectMethods.progressive_substituition(LU['L'], e)\n",
    "      x = DirectMethods.regressive_substitution(LU['U'], y)\n",
    "\n",
    "      v.append(x)\n",
    "\n",
    "    return np.array(v).transpose()"
   ]
  },
  {
   "cell_type": "code",
   "execution_count": 11,
   "metadata": {},
   "outputs": [],
   "source": [
    "\"\"\"\n",
    "Retorna decomposição da matriz A em LU utilizando eliminação de Gauss\n",
    "\"\"\"\n",
    "def func1(A):\n",
    "  n = A.shape[0]\n",
    "  U = A.copy()\n",
    "  L = np.eye(n)\n",
    "\n",
    "  # j: indice de iteração sobre colunas\n",
    "  for j in range(n-1):\n",
    "\n",
    "    # i: indice de iteração sobre linhas, ao longo do triangulo superior (i > j)\n",
    "    for i in range(j+1, n):\n",
    "\n",
    "      # L: matriz de coeficientes m_ij da forma matricial da eliminação de Gauss\n",
    "      #  será uma matriz triangular inferior\n",
    "      L[i,j] = U[i,j] / U[j,j]\n",
    "\n",
    "      U[i, j:] = U[i, j:] - L[i,j] * U[j, j:]\n",
    "\n",
    "  return (L, U)"
   ]
  },
  {
   "cell_type": "code",
   "execution_count": 12,
   "metadata": {},
   "outputs": [],
   "source": [
    "# Teste 1: utilização da função func1\n",
    "A = np.array([\n",
    "  [3, 2, -5],\n",
    "  [2, 4, -1],\n",
    "  [2, -3, -1],\n",
    "])\n",
    "\n",
    "LU = func1(A)\n",
    "L = LU[0]\n",
    "U = LU[1]"
   ]
  },
  {
   "cell_type": "code",
   "execution_count": 13,
   "metadata": {},
   "outputs": [
    {
     "name": "stdout",
     "output_type": "stream",
     "text": [
      "Matriz L = \n",
      "[[ 1.          0.          0.        ]\n",
      " [ 0.66666667  1.          0.        ]\n",
      " [ 0.66666667 -2.          1.        ]]\n",
      "\n",
      "Matriz U = \n",
      "[[ 3  2 -5]\n",
      " [ 0  2  2]\n",
      " [ 0  0  6]]\n",
      "\n",
      "Original A = \n",
      "[[ 3  2 -5]\n",
      " [ 2  4 -1]\n",
      " [ 2 -3 -1]]\n",
      "\n",
      "Obtido LU = \n",
      "[[ 3.          2.         -5.        ]\n",
      " [ 2.          3.33333333 -1.33333333]\n",
      " [ 2.         -2.66666667 -1.33333333]]\n"
     ]
    }
   ],
   "source": [
    "print('Matriz L = ')\n",
    "print(L)\n",
    "print()\n",
    "\n",
    "print('Matriz U = ')\n",
    "print(U)\n",
    "print()\n",
    "\n",
    "# Como validação, podemos fazer o retorno a A \n",
    "# de modo que A = LU\n",
    "print('Original A = ')\n",
    "print(A)\n",
    "print()\n",
    "\n",
    "print('Obtido LU = ')\n",
    "print(np.matmul(L,U))"
   ]
  },
  {
   "cell_type": "code",
   "execution_count": 14,
   "metadata": {},
   "outputs": [],
   "source": [
    "\"\"\"\n",
    "Retorna decomposição da matriz A em LU utilizando eliminação de Gauss\n",
    "\"\"\"\n",
    "def func2(A, p):\n",
    "  n = A.shape[0]\n",
    "  U = A.copy()\n",
    "  L = np.eye(n)\n",
    "\n",
    "  # j: indice de iteração sobre as colunas \n",
    "  for j in range(n-1):\n",
    "    \n",
    "    v = min(n, j+p+1)\n",
    "\n",
    "    # i: indice de iteração sobre as linhas no triangulo superior (i > j)\n",
    "    #  mas considerando como final o minimo entre n (linha toda)\n",
    "    #  e v (valor ...)\n",
    "    for i in range(j+1, v):\n",
    "      L[i,j] = U[i,j] / U[j,j]\n",
    "      U[i, j:v] = U[i, j:v] - L[i,j] * U[j, j:v]\n",
    "\n",
    "  return (L, U)"
   ]
  },
  {
   "cell_type": "markdown",
   "metadata": {},
   "source": [
    "Notamos que as funções são similares, com exceção aos limites de valores que serão calculados da matriz de coeficientes L \n",
    "\n",
    "Para func1: (for i in range(j+1, n))\n",
    "\n",
    "Para func1: (for i in range(j+1, v))\n",
    "\n",
    "Onde v = min(n, j+p+1)\n",
    "\n",
    "A diferença entre as funções ocorre na quantidade de iterações e cálculos que são realizados para cada valor do triangulo superior da matriz A"
   ]
  },
  {
   "cell_type": "markdown",
   "metadata": {},
   "source": [
    "Onde $j = 0,1,2,...,n-1$ e $p$ pré definido"
   ]
  },
  {
   "cell_type": "markdown",
   "metadata": {},
   "source": [
    "$$v = min(2000, 3), min(2000, 4), ..., min(2000, 2002)$$ \n",
    "\n",
    "ou seja \n",
    "$$v = 3,4,5,...,1999, 2000,2000,2000$$"
   ]
  },
  {
   "cell_type": "code",
   "execution_count": 15,
   "metadata": {},
   "outputs": [],
   "source": [
    "n = 2000\n",
    "p = 2\n",
    "A = np.zeros((n,n))\n",
    "\n",
    "for i in range(n):\n",
    "  for j in range(max(0, i-p), min(n, i+p+1)):\n",
    "    A[i,j] = np.random.normal()"
   ]
  },
  {
   "cell_type": "markdown",
   "metadata": {},
   "source": [
    "Tomando a matriz $A$ gerada acima, temos que "
   ]
  },
  {
   "cell_type": "code",
   "execution_count": 16,
   "metadata": {},
   "outputs": [
    {
     "name": "stdout",
     "output_type": "stream",
     "text": [
      "[[-0.69855344  1.31830832  0.86810411  0.          0.          0.\n",
      "   0.          0.          0.          0.        ]\n",
      " [-0.96774104  0.29316642 -0.74691941  1.30125968  0.          0.\n",
      "   0.          0.          0.          0.        ]\n",
      " [-1.66966988 -0.03220031 -0.99529004  0.45661725 -0.50597098  0.\n",
      "   0.          0.          0.          0.        ]\n",
      " [ 0.          0.39872913 -0.92050518 -0.85524392 -0.50046823 -0.90252684\n",
      "   0.          0.          0.          0.        ]\n",
      " [ 0.          0.         -0.97536206  1.79791373 -0.72612328 -0.03396393\n",
      "   0.44638695  0.          0.          0.        ]\n",
      " [ 0.          0.          0.          0.27342143  0.23110938  0.28811804\n",
      "   0.20012019 -0.84657524  0.          0.        ]\n",
      " [ 0.          0.          0.          0.          0.10040242 -0.56422391\n",
      "   0.16709335 -0.7069651   1.4200311   0.        ]\n",
      " [ 0.          0.          0.          0.          0.          0.7166558\n",
      "  -0.84983892  0.08471018  0.49040719  0.3217967 ]\n",
      " [ 0.          0.          0.          0.          0.          0.\n",
      "   0.42173867  1.09195265 -0.81820645  0.55681869]\n",
      " [ 0.          0.          0.          0.          0.          0.\n",
      "   0.          0.79232183  0.68707303  0.02151872]]\n"
     ]
    }
   ],
   "source": [
    "print(A[:10,:10])"
   ]
  },
  {
   "cell_type": "markdown",
   "metadata": {},
   "source": [
    "Notamos que a matriz $A$ é esparsa, com valores diferentes de zero apenas para uma faixa delimitada (de 'largura' $\\pm p$) de valores ao redor da diagonal principal\n",
    "\n",
    "Dessa forma, conhecendo a matriz dada, podemos calcular os coeficientes de $L$ para valores que estejam na faixa $\\pm p$ (que são não nulos) e evitar calculos desnecessários de coeficientes que serão todos nulos"
   ]
  },
  {
   "cell_type": "code",
   "execution_count": 17,
   "metadata": {},
   "outputs": [
    {
     "name": "stdout",
     "output_type": "stream",
     "text": [
      "Teste func1\n",
      "12.60251259803772\n",
      "\n",
      "Teste func2\n",
      "0.02718210220336914\n"
     ]
    }
   ],
   "source": [
    "start_time = time.time()\n",
    "(L, U) = func1(A)\n",
    "end_time = time.time()\n",
    "print('Teste func1')\n",
    "print(end_time - start_time)\n",
    "\n",
    "print()\n",
    "\n",
    "start_time = time.time()\n",
    "print('Teste func2')\n",
    "(L_, U_) = func2(A, p)\n",
    "end_time = time.time()\n",
    "print(end_time - start_time)"
   ]
  },
  {
   "cell_type": "code",
   "execution_count": 18,
   "metadata": {},
   "outputs": [
    {
     "name": "stdout",
     "output_type": "stream",
     "text": [
      "Aproximação da solução via func1\n",
      "7.505084921711365e-13\n",
      "\n",
      "Aproximação da solução via func2\n",
      "7.505084921711365e-13\n"
     ]
    }
   ],
   "source": [
    "# teste convergência via norma\n",
    "print('Aproximação da solução via func1')\n",
    "print(np.linalg.norm(L @ U - A))\n",
    "print()\n",
    "print('Aproximação da solução via func2')\n",
    "print(np.linalg.norm(L_ @ U_ - A))"
   ]
  },
  {
   "cell_type": "markdown",
   "metadata": {},
   "source": [
    "Portanto, como esperado, os resultados são compatíveis quando comparadas as suas normas em relação à solução real (A = LU), com diferença expressiva do tempo de processamento por evitar calculos desnecessários de coeficientes nulos conforme mencionamos acima"
   ]
  },
  {
   "cell_type": "markdown",
   "metadata": {},
   "source": [
    "## Questão 2"
   ]
  },
  {
   "cell_type": "markdown",
   "metadata": {},
   "source": [
    "Definição da classe para resolução via métodos iterativos que será útil para esta questão"
   ]
  },
  {
   "cell_type": "code",
   "execution_count": 19,
   "metadata": {},
   "outputs": [],
   "source": [
    "class IterativeMethods:\n",
    "  def __init__(self, max_it = 5000, epsilon = 0.001, printCG = False, forceReturnResult = False) -> None:\n",
    "    self.MAX_ITERATION = max_it\n",
    "    self.epsilon = epsilon\n",
    "    self.printCG = printCG\n",
    "    self.forceReturnResult = forceReturnResult\n",
    "\n",
    "  @staticmethod\n",
    "  def test_convergency_gauss_jacobi(A):\n",
    "    \"\"\" Testar convergência de solução iterativa via algoritmo de Gauss-Jacobi\n",
    "\n",
    "    A : ndarray\n",
    "      2D array com tipos float\n",
    "    \"\"\"\n",
    "    if 0 in np.diag(A): return False\n",
    "\n",
    "    n = len(A)\n",
    "    alpha = []\n",
    "    for k in range(n):\n",
    "      alpha_k = (np.sum(abs(A[k,:k])) + np.sum(abs(A[k,k+1:]))) / abs(A[k,k])\n",
    "      alpha.append(alpha_k)\n",
    "    \n",
    "    if max(alpha) < 1: return True\n",
    "\n",
    "    alpha = []\n",
    "    for k in range(n):\n",
    "      alpha_k = (np.sum(abs(A[k,:k])) + np.sum(abs(A[k,k+1:]))) / abs(A[k,k])\n",
    "      alpha.append(alpha_k)\n",
    "\n",
    "    if max(alpha) < 1: return True\n",
    "    return False\n",
    "  \n",
    "  @staticmethod\n",
    "  def test_convergency_gauss_seidel(A):\n",
    "    \"\"\" Testar convergência de solução iterativa via algoritmo de Gauss-Seidel\n",
    "\n",
    "    A : ndarray\n",
    "      2D array com tipos float\n",
    "    \"\"\"\n",
    "    if 0 in np.diag(A): return False\n",
    "\n",
    "    n = len(A)\n",
    "\n",
    "    beta = [np.sum(abs(A[0,1:])) / abs(A[0,0])]\n",
    "    for k in range(1, n):\n",
    "      beta_k = (np.sum(abs(A[k,:k]) * beta[k-1]) + np.sum(abs(A[k,k+1:]))) / abs(A[k,k])\n",
    "      beta.append(beta_k)\n",
    "    print(beta)\n",
    "    \n",
    "    if max(beta) < 1: return True\n",
    "    return False\n",
    "\n",
    "  def solve_gauss_jacobi(self, A, b, x0):\n",
    "    \"\"\" Obter vetor de solução x tal que Ax = b via algoritmo de Gauss-Jacobi\n",
    "\n",
    "    A : ndarray\n",
    "      2D array com tipos float\n",
    "    \"\"\"\n",
    "    n = len(A)\n",
    "    Dinv = np.diagflat([1/A[i,i] for i in range(n)])\n",
    "    I = np.eye(n)\n",
    "    \n",
    "    C = I - np.matmul(Dinv, A)\n",
    "    g = np.matmul(Dinv, b)\n",
    "\n",
    "    if (self.printCG):\n",
    "      print('C = ')\n",
    "      print(C)\n",
    "      print()\n",
    "\n",
    "      print('g = ')\n",
    "      print(g)\n",
    "    \n",
    "    norm = np.linalg.norm(b - np.matmul(A,x0))\n",
    "\n",
    "    k = 0\n",
    "    while norm > self.epsilon and k <= self.MAX_ITERATION:\n",
    "      x0 = np.matmul(C,x0) + g\n",
    "      k += 1\n",
    "      norm = np.linalg.norm(np.matmul(A,x0) - b)\n",
    "    \n",
    "    if k >= self.MAX_ITERATION:\n",
    "      if (self.forceReturnResult): return x0\n",
    "      raise Exception('Cálculo não converge')\n",
    "    \n",
    "    return x0\n",
    "\n",
    "  def solve_gauss_seidel(self, A, b, x0):\n",
    "    \"\"\" Obter vetor de solução x tal que Ax = b via algoritmo de Gauss-Seidel\n",
    "\n",
    "    A : ndarray\n",
    "      2D array com tipos float\n",
    "    \"\"\"\n",
    "    n = len(A)\n",
    "    L = np.tril(A)\n",
    "    U = np.triu(A,1)\n",
    "    \n",
    "    Linv = np.linalg.inv(L)\n",
    "    C = - np.matmul(Linv, U)\n",
    "    g = np.matmul(Linv, b)\n",
    "\n",
    "    if (self.printCG):\n",
    "      print('C = ')\n",
    "      print(C)\n",
    "      print()\n",
    "\n",
    "      print('g = ')\n",
    "      print(g)\n",
    "\n",
    "    norm = np.linalg.norm(np.matmul(A,x0) - b)\n",
    "\n",
    "    k = 0\n",
    "    while norm > self.epsilon and k <= self.MAX_ITERATION:\n",
    "      x0 = np.matmul(C,x0) + g\n",
    "      k += 1\n",
    "      norm = np.linalg.norm(np.matmul(A,x0) - b)\n",
    "    \n",
    "    if k >= self.MAX_ITERATION:\n",
    "      if (self.forceReturnResult): return x0\n",
    "      raise Exception('Cálculo não converge')\n",
    "    \n",
    "    return x0\n",
    "  \n",
    "  def solve_gradientes(self, A, b, x0):\n",
    "    \"\"\" Obter vetor de solução x tal que Ax = b via algoritmo de gradientes\n",
    "\n",
    "    A : ndarray\n",
    "      2D array com tipos float\n",
    "    \"\"\"\n",
    "    n = len(A)\n",
    "    r = b - np.matmul(A, x0)\n",
    "    norm = np.linalg.norm(r)\n",
    "\n",
    "    k = 0\n",
    "    while norm > self.epsilon and k <= self.MAX_ITERATION:\n",
    "      rT = r.transpose()\n",
    "      Ar = np.matmul(A, r)\n",
    "      alpha = np.dot(rT, r) / np.dot(r, Ar)\n",
    "      x0 += alpha * r\n",
    "      r = b - np.matmul(A, x0)\n",
    "      norm = np.linalg.norm(r)\n",
    "      \n",
    "    if k >= self.MAX_ITERATION:\n",
    "      if (self.forceReturnResult): return x0\n",
    "      raise Exception('Cálculo não converge')\n",
    "    \n",
    "    return x0"
   ]
  },
  {
   "cell_type": "code",
   "execution_count": 20,
   "metadata": {},
   "outputs": [],
   "source": [
    "A = np.array([\n",
    "  [4,-2,1,0,0,0],\n",
    "  [-2,7,-2,1,0,0],\n",
    "  [1,-2,7,-2,1,0],\n",
    "  [0,1,-2,7,-2,1],\n",
    "  [0,0,1,-2,7,-2],\n",
    "  [0,0,0,1,-2,4]\n",
    "])\n",
    "\n",
    "b = np.array([-1,-2,1,1,-2,-1])"
   ]
  },
  {
   "cell_type": "code",
   "execution_count": 23,
   "metadata": {},
   "outputs": [
    {
     "name": "stdout",
     "output_type": "stream",
     "text": [
      "[-0.50442478 -0.39823009  0.22123894  0.22123894 -0.39823009 -0.50442478]\n"
     ]
    }
   ],
   "source": [
    "# Resultado para comparação\n",
    "x_expect = np.linalg.solve(A, b)\n",
    "print(x_expect)"
   ]
  },
  {
   "cell_type": "markdown",
   "metadata": {},
   "source": [
    "Questão 2a"
   ]
  },
  {
   "cell_type": "code",
   "execution_count": 31,
   "metadata": {},
   "outputs": [],
   "source": [
    "itm = IterativeMethods(printCG=True)"
   ]
  },
  {
   "cell_type": "code",
   "execution_count": 32,
   "metadata": {},
   "outputs": [
    {
     "name": "stdout",
     "output_type": "stream",
     "text": [
      "C = \n",
      "[[ 0.          0.5        -0.25        0.          0.          0.        ]\n",
      " [ 0.28571429  0.          0.28571429 -0.14285714  0.          0.        ]\n",
      " [-0.14285714  0.28571429  0.          0.28571429 -0.14285714  0.        ]\n",
      " [ 0.         -0.14285714  0.28571429  0.          0.28571429 -0.14285714]\n",
      " [ 0.          0.         -0.14285714  0.28571429  0.          0.28571429]\n",
      " [ 0.          0.          0.         -0.25        0.5         0.        ]]\n",
      "\n",
      "g = \n",
      "[-0.25       -0.28571429  0.14285714  0.14285714 -0.28571429 -0.25      ]\n"
     ]
    }
   ],
   "source": [
    "x0 = np.array([0,0,0,0,0,0])\n",
    "\n",
    "# Utilizando Gauss Jacobi\n",
    "x = itm.solve_gauss_jacobi(A, b, x0)\n"
   ]
  },
  {
   "cell_type": "code",
   "execution_count": 33,
   "metadata": {},
   "outputs": [
    {
     "name": "stdout",
     "output_type": "stream",
     "text": [
      "Solução Ax = b\n",
      "Vetor x = \n",
      "[-0.50423043 -0.39819489  0.22117498  0.22117498 -0.39819489 -0.50423043]\n",
      "\n",
      "Vetor x (esperado) = \n",
      "[-0.50442478 -0.39823009  0.22123894  0.22123894 -0.39823009 -0.50442478]\n"
     ]
    }
   ],
   "source": [
    "print(\"Solução Ax = b\")\n",
    "print(\"Vetor x = \")\n",
    "print(x.transpose())\n",
    "print()\n",
    "print('Vetor x (esperado) = ')\n",
    "print(x_expect)"
   ]
  },
  {
   "cell_type": "code",
   "execution_count": 34,
   "metadata": {},
   "outputs": [
    {
     "name": "stdout",
     "output_type": "stream",
     "text": [
      "Aproximação da solução\n",
      "0.0009438802773593731\n"
     ]
    }
   ],
   "source": [
    "# Validação de resultado correto\n",
    "#  via comparativo da norma Ax - b = 0\n",
    "print('Aproximação da solução')\n",
    "print(np.linalg.norm(A @ x - b))"
   ]
  },
  {
   "cell_type": "code",
   "execution_count": 35,
   "metadata": {},
   "outputs": [
    {
     "name": "stdout",
     "output_type": "stream",
     "text": [
      "C = \n",
      "[[-0.          0.5        -0.25       -0.         -0.         -0.        ]\n",
      " [-0.          0.14285714  0.21428571 -0.14285714 -0.         -0.        ]\n",
      " [-0.         -0.03061224  0.09693878  0.24489796 -0.14285714 -0.        ]\n",
      " [-0.         -0.02915452 -0.00291545  0.09037901  0.24489796 -0.14285714]\n",
      " [-0.         -0.00395668 -0.01468138 -0.00916285  0.09037901  0.24489796]\n",
      " [-0.          0.00531029 -0.00661183 -0.02717618 -0.01603499  0.15816327]]\n",
      "\n",
      "g = \n",
      "[-0.25       -0.35714286  0.07653061  0.21574344 -0.23500625 -0.42143898]\n"
     ]
    }
   ],
   "source": [
    "x0 = np.array([0,0,0,0,0,0])\n",
    "\n",
    "# Utilizando Gauss Seidel\n",
    "x = itm.solve_gauss_seidel(A, b, x0)\n"
   ]
  },
  {
   "cell_type": "code",
   "execution_count": 36,
   "metadata": {},
   "outputs": [
    {
     "name": "stdout",
     "output_type": "stream",
     "text": [
      "Solução Ax = b\n",
      "Vetor x = \n",
      "[-0.50447959 -0.39818043  0.22129442  0.22123615 -0.39825443 -0.50443626]\n",
      "\n",
      "Vetor x (esperado) = \n",
      "[-0.50442478 -0.39823009  0.22123894  0.22123894 -0.39823009 -0.50442478]\n"
     ]
    }
   ],
   "source": [
    "print(\"Solução Ax = b\")\n",
    "print(\"Vetor x = \")\n",
    "print(x.transpose())\n",
    "print()\n",
    "print('Vetor x (esperado) = ')\n",
    "print(x_expect)"
   ]
  },
  {
   "cell_type": "code",
   "execution_count": 37,
   "metadata": {},
   "outputs": [
    {
     "name": "stdout",
     "output_type": "stream",
     "text": [
      "Aproximação da solução\n",
      "0.0004929549650413222\n"
     ]
    }
   ],
   "source": [
    "# Validação de resultado correto\n",
    "#  via comparativo da norma Ax - b = 0\n",
    "print('Aproximação da solução')\n",
    "print(np.linalg.norm(A @ x - b))"
   ]
  },
  {
   "cell_type": "markdown",
   "metadata": {},
   "source": [
    "Questão 2b"
   ]
  },
  {
   "cell_type": "code",
   "execution_count": 38,
   "metadata": {},
   "outputs": [
    {
     "data": {
      "text/plain": [
       "True"
      ]
     },
     "execution_count": 38,
     "metadata": {},
     "output_type": "execute_result"
    }
   ],
   "source": [
    "IterativeMethods.test_convergency_gauss_jacobi(A)"
   ]
  },
  {
   "cell_type": "code",
   "execution_count": 39,
   "metadata": {},
   "outputs": [
    {
     "data": {
      "text/plain": [
       "True"
      ]
     },
     "execution_count": 39,
     "metadata": {},
     "output_type": "execute_result"
    }
   ],
   "source": [
    "IterativeMethods.test_convergency_gauss_jacobi(A)"
   ]
  },
  {
   "cell_type": "markdown",
   "metadata": {},
   "source": [
    "Para ambos os métodos, a equação $Ax = b$ converge independentemente de $x_0$ escolhido"
   ]
  },
  {
   "cell_type": "markdown",
   "metadata": {},
   "source": [
    "Questão 2c"
   ]
  },
  {
   "cell_type": "markdown",
   "metadata": {},
   "source": [
    "Vamos considerar como resultado esperado a norma do resultado $Ax - b$"
   ]
  },
  {
   "cell_type": "code",
   "execution_count": 41,
   "metadata": {},
   "outputs": [],
   "source": [
    "# forceReturnResult: retornar o resultado, independente da convergência, \n",
    "#   para um valor limite de iterações\n",
    "itm = IterativeMethods(epsilon=1E-8, forceReturnResult=True)"
   ]
  },
  {
   "cell_type": "code",
   "execution_count": 42,
   "metadata": {},
   "outputs": [
    {
     "name": "stdout",
     "output_type": "stream",
     "text": [
      "Erro GJ            Erro GS              n                        \n",
      "1.88467067         0.41998359           1   \n",
      "1.43419716         0.10931892           2   \n",
      "1.07021668         0.02875363           3   \n",
      "0.83902595         0.00924921           4   \n",
      "0.65182544         0.00235790           5   \n",
      "0.51068869         0.00049295           6   \n",
      "0.39889244         0.00010377           7   \n",
      "0.31219323         0.00002962           8   \n",
      "0.24410206         0.00000903           9   \n",
      "0.19097029         0.00000237           10  \n",
      "0.14935805         0.00000052           11  \n",
      "0.11683316         0.00000010           12  \n",
      "0.09138239         0.00000002           13  \n",
      "0.07147958         0.00000001           14  \n",
      "0.05590989         0.00000001           15  \n"
     ]
    }
   ],
   "source": [
    "x0 = np.array([1,0,0,0,0,0])\n",
    "\n",
    "y = []\n",
    "for i in range(1, 50):\n",
    "    itm.MAX_ITERATION = i\n",
    "    xGJ = itm.solve_gauss_jacobi(A, b, x0)\n",
    "    normGJ = np.linalg.norm(A @ xGJ - b)\n",
    "\n",
    "    xGS = itm.solve_gauss_seidel(A, b, x0)\n",
    "    normGS = np.linalg.norm(A @ xGS - b)\n",
    "\n",
    "    # Armazenar em y o resultado das normas Ax - b\n",
    "    #  para GJ (Gauss-Jacobi) e GS (Gauss-Seidel) \n",
    "    y.append([normGJ, normGS, i])\n",
    "\n",
    "# Para visualização, mostrar os 15 primeiros valores da tabela com o cabeçalho 'h'\n",
    "h = ['Erro GJ', 'Erro GS', 'n']\n",
    "print('{:<18s} {:<20s} {:<25s}'.format(*h))\n",
    "for val in y[:15]:\n",
    "    print('{:.8f} {:^26.8f} {:^6}'.format(*val))"
   ]
  },
  {
   "cell_type": "code",
   "execution_count": 50,
   "metadata": {},
   "outputs": [
    {
     "data": {
      "image/png": "[encoded data removed]",
      "text/plain": [
       "<Figure size 2000x1000 with 2 Axes>"
      ]
     },
     "metadata": {},
     "output_type": "display_data"
    }
   ],
   "source": [
    "fig, ax = plt.subplots(1,2, figsize=(20,10))\n",
    "horiz = [y[i][2] for i in range(len(y))]\n",
    "\n",
    "fig.suptitle('Convergência de soluções. Erro x Nro. Iterações', fontsize=20)\n",
    "\n",
    "ax[0].plot(horiz, [y[i][0] for i in range(len(y))], '-bo', label='Gauss-Jacobi')\n",
    "ax[0].plot(horiz, [y[i][1] for i in range(len(y))], '-ro', label='Gauss-Seidel')\n",
    "ax[0].hlines(1E-8, 0, 50, linestyle='dashed', colors='black', label='Erro = 1E-8')\n",
    "\n",
    "ax[0].set_xlabel('Iteração', {'size': 15})\n",
    "ax[0].set_ylabel('Erro', {'size': 15})\n",
    "ax[0].legend(title='Método', title_fontsize=13)\n",
    "\n",
    "ax[1].plot(horiz, [y[i][0] for i in range(len(y))], '-bo', label='Gauss-Jacobi')\n",
    "ax[1].plot(horiz, [y[i][1] for i in range(len(y))], '-ro', label='Gauss-Seidel')\n",
    "ax[1].hlines(1E-8, 0, 50, linestyle='dashed', colors='black', label='Erro = 1E-8')\n",
    "\n",
    "ax[1].set_xlabel('Iteração', {'size': 15})\n",
    "ax[1].set_ylabel('Erro', {'size': 15})\n",
    "ax[1].legend(title='Método', title_fontsize=13)\n",
    "\n",
    "ax[1].set_ylim(-0.001,0.02)\n",
    "\n",
    "plt.show()"
   ]
  },
  {
   "cell_type": "markdown",
   "metadata": {},
   "source": [
    "Notamos que para GJ a convergência para o resultado com precisão de 1E-8 ocorre já por volta de 10 iterações, enquanto para GS a convergência para a mesma precisão ocorre por volta de 50 iterações"
   ]
  },
  {
   "cell_type": "markdown",
   "metadata": {},
   "source": [
    "Entendemos a otimização do método GS em relação ao GJ devido à utilização de valores atualizados da linha $i-1$ cálculo da linha $i$, o que não ocorre para GJ\n",
    "\n",
    "Por exemplo, sendo $Ax = b$, como sistema de equações temos\n",
    "\n",
    "$$\n",
    "a_{11}x_1 + a_{12}x_2 + ... + a_{1n}x_n = b_1 \\\\\n",
    "a_{21}x_1 + a_{22}x_2 + ... + a_{2n}x_n = b_1 \\\\\n",
    "... \\\\\n",
    "a_{n1}x_1 + a_{n2}x_2 + ... + a_{nn}x_n = b_n\n",
    "$$"
   ]
  },
  {
   "cell_type": "markdown",
   "metadata": {},
   "source": [
    "$$\n",
    "x_1 = [b_1 - (a_{12}x_2 + ... + a_{1n}x_n)] / a_{11} \\\\\n",
    "x_2 = [b_2 - (a_{21}x_1 + ... + a_{2n}x_n)] / a_{22} \\\\\n",
    "... \\\\\n",
    "x_n = [b_n - (a_{n1}x_2 + ... + a_{n-1,n}x_{n-1})] / a_{nn} \\\\\n",
    "$$"
   ]
  },
  {
   "cell_type": "markdown",
   "metadata": {},
   "source": [
    "Podemos pegar por exemplo os valores\n",
    "\n",
    "$$\n",
    "x_1 = [b_1 - (a_{12}x_2 + ... + a_{1n}x_n)] / a_{11} \\\\\n",
    "x_2 = [b_2 - (a_{21}x_1 + ... + a_{2n}x_n)] / a_{22}\n",
    "$$\n",
    "\n",
    "Após a primeira iteração teremos\n",
    "\n",
    "$$\n",
    "x_1 \\to x_1^{1} = [b_1 - (a_{12}x_2^0 + ... + a_{1n}x_n^0)] / a_{11} \\\\\n",
    "x_2 \\to x_2^{1} = [b_2 - (a_{21}x_1^0 + ... + a_{2n}x_n^0)] / a_{22}\n",
    "$$"
   ]
  },
  {
   "cell_type": "markdown",
   "metadata": {},
   "source": [
    "Já para GS, utilizamos o valor calculado de $x_1^1$ para calcular $x_2^1$, isto é\n",
    "\n",
    "$$\n",
    "x_1 \\to x_1^{1} = [b_1 - (a_{12}x_2^0 + ... + a_{1n}x_n^0)] / a_{11} \\\\\n",
    "x_2 \\to x_2^{1} = [b_2 - (a_{21}x_1^1 + ... + a_{2n}x_n^0)] / a_{22}\n",
    "$$"
   ]
  },
  {
   "cell_type": "markdown",
   "metadata": {},
   "source": [
    "de modo que mesmo na iteração $k=1$, para $x_2^1$ já consideramos o ganho da iteração sobre $x_1^1$\n",
    "\n",
    "Por isso GS apresenta convergência mais rápida em relação a GJ"
   ]
  },
  {
   "cell_type": "markdown",
   "metadata": {},
   "source": [
    "Questão 3"
   ]
  },
  {
   "cell_type": "markdown",
   "metadata": {},
   "source": [
    "Definição da classe para calculo de zeros de função"
   ]
  },
  {
   "cell_type": "code",
   "execution_count": 77,
   "metadata": {},
   "outputs": [],
   "source": [
    "class FuncZeros:\n",
    "  def __init__(self, max_it = 5000, epsilon = 0.001, forceReturnResult = False) -> None:\n",
    "    self.MAX_ITERATION = max_it\n",
    "    self.epsilon = epsilon\n",
    "    self.forceReturnResult = forceReturnResult\n",
    "\n",
    "  def bissection(self, func, a, b):\n",
    "    \"\"\" Obter solução x tal que f(x) = 0 via algoritmo de bisseção dentro do intervalo [a,b]\n",
    "\n",
    "    func : function\n",
    "      função f(x)\n",
    "    a : float\n",
    "      limite inferior do intervalo a ser verificado\n",
    "    b: float\n",
    "      limite superior do intervalo a ser verificado\n",
    "    \"\"\"\n",
    "    x = (a+b)/2\n",
    "    erro = np.inf\n",
    "\n",
    "    k = 0\n",
    "    while erro > self.epsilon:\n",
    "      if func(a) * func(x) < 0: b = x \n",
    "      else: a = x\n",
    "\n",
    "      x0 = x\n",
    "      x = (a+b)/2\n",
    "      erro = abs(x-x0)\n",
    "      k += 1\n",
    "      if k >= self.MAX_ITERATION and self.forceReturnResult: \n",
    "        return x\n",
    "\n",
    "    return x\n",
    "  \n",
    "  def newton(self, func, dfunc, x0):\n",
    "    \"\"\" Obter solução x tal que f(x) = 0 via algoritmo de Newton\n",
    "\n",
    "    func : function\n",
    "      função f(x)\n",
    "    dfunc : function\n",
    "      derivada de f(x) -- df/dx\n",
    "    x0: float\n",
    "      valor inicial\n",
    "    \"\"\"\n",
    "    k = 0\n",
    "    x = x0\n",
    "    while k < self.MAX_ITERATION:\n",
    "      dx = func(x) / dfunc(x)\n",
    "      x -= dx\n",
    "      if abs(dx) < self.epsilon:\n",
    "        return x\n",
    "    \n",
    "    if (self.forceReturnResult): return x\n",
    "\n",
    "    return None\n",
    "  \n",
    "  def newton_jacobian(self, funcs, jacobian, x0):\n",
    "    \"\"\" Obter solução x tal que f(x) = 0 via algoritmo de Newton para sistemas\n",
    "\n",
    "    funcs : ndarray[function]\n",
    "      vetor 1D com funções do sistema \n",
    "    jacobian : ndarray[[function]]\n",
    "      matriz 2D com Jacobiana (parciais de f(x))\n",
    "    x0: ndarray\n",
    "      vetor 1D com valores iniciais\n",
    "    \"\"\"\n",
    "    k = 0\n",
    "    x = x0\n",
    "    while k < self.MAX_ITERATION:\n",
    "      calc_jac = jacobian(*list(x0))\n",
    "      calc_funcs = funcs(*list(x0))\n",
    "\n",
    "      jacInv = np.linalg.inv(calc_jac)\n",
    "      v = np.matmul(jacInv, calc_funcs)\n",
    "      x -= v\n",
    "      k += 1\n",
    "      if np.linalg.norm(v) < self.epsilon:\n",
    "        return x\n",
    "      \n",
    "    if (self.forceReturnResult): return x\n",
    "    \n",
    "    return None\n"
   ]
  },
  {
   "cell_type": "markdown",
   "metadata": {},
   "source": [
    "Questão 3a"
   ]
  },
  {
   "cell_type": "markdown",
   "metadata": {},
   "source": [
    "O momento em que a trajetória do projétil encontra o morro, conhecendo-se as funções que descrevem o morro e o projétil pode ser encontrada igualando ambas funções de modo que"
   ]
  },
  {
   "cell_type": "markdown",
   "metadata": {},
   "source": [
    "$$\n",
    "p(x) = -x^{4}+7.7x^{3}-18x^{2}+13.6x\n",
    "$$\n",
    "\n",
    "$$\n",
    "q(x) = -x^{2}+5x+0.75\n",
    "$$\n",
    "\n",
    "$$\n",
    "p(x) = q(x)\n",
    "$$"
   ]
  },
  {
   "cell_type": "markdown",
   "metadata": {},
   "source": [
    "Isso acontece quando\n",
    "\n",
    "$$\n",
    "-x^{2}+5x+0.75 = -x^{4}+7.7x^{3}-18x^{2}+13.6x\n",
    "$$"
   ]
  },
  {
   "cell_type": "markdown",
   "metadata": {},
   "source": [
    "Ou, reformulando para termos uma igualdade em 0\n",
    "\n",
    "$$\n",
    "-x^4 + 7.7x^3 - 17x^2 + 8.6x - 0.75 = 0\n",
    "$$"
   ]
  },
  {
   "cell_type": "markdown",
   "metadata": {},
   "source": [
    "Como tal função possui 4 raízes e queremos apenas o momento em que o projétil encontra o morro, queremos a solução para o intervalo [3,3.2] (conforme na figura na questão)"
   ]
  },
  {
   "cell_type": "markdown",
   "metadata": {},
   "source": [
    "Apenas como comparativo, notamos que o valor que objetivamos está em $x \\approx 3.173$, o que já valida o intervalo utilizado"
   ]
  },
  {
   "cell_type": "markdown",
   "metadata": {},
   "source": [
    "![image.png](questao3a.png)"
   ]
  },
  {
   "cell_type": "code",
   "execution_count": 83,
   "metadata": {},
   "outputs": [
    {
     "name": "stdout",
     "output_type": "stream",
     "text": [
      "Sendo a igualdade f(x0) = 0\n",
      "x0 = 3.17265625\n",
      "\n",
      "Sendo p(x0) altura\n",
      "p(x0) =  6.546101510113125\n"
     ]
    }
   ],
   "source": [
    "# max_it = 5: máximo de iterações\n",
    "fz = FuncZeros(max_it=5, epsilon=0.001)\n",
    "\n",
    "p = lambda x : -x**4+7.7*(x**3)-18*(x**2)+13.6*x\n",
    "q = lambda x : -x**2+5*x+0.75\n",
    "\n",
    "f = lambda x : -x**4 + 7.7*(x**3) - 17*(x**2) + 8.6*x - 0.75\n",
    "a = 3\n",
    "b = 3.2\n",
    "x0 = fz.bissection(f, a, b)\n",
    "\n",
    "print('Sendo a igualdade f(x0) = 0')\n",
    "print('x0 =', x0)\n",
    "print()\n",
    "print('Sendo p(x0) altura')\n",
    "print('p(x0) = ', p(x0))\n"
   ]
  },
  {
   "cell_type": "markdown",
   "metadata": {},
   "source": [
    "Que conferem com os resultados esperados via análise gráfica"
   ]
  },
  {
   "cell_type": "markdown",
   "metadata": {},
   "source": [
    "Questão 3b"
   ]
  },
  {
   "cell_type": "markdown",
   "metadata": {},
   "source": [
    "Agora tentamos construir uma função $\\mathcal{R}^2 \\to \\mathcal{R}^2$"
   ]
  },
  {
   "cell_type": "markdown",
   "metadata": {},
   "source": [
    "$$\n",
    "p(x,y) = -x^{4}+7.7x^{3}-18x^{2}+13.6x - y\n",
    "$$\n",
    "\n",
    "$$\n",
    "q(x, y) = -x^{2}+5x+0.75 - y\n",
    "$$"
   ]
  },
  {
   "cell_type": "markdown",
   "metadata": {},
   "source": [
    "De modo que\n",
    "\n",
    "$$\n",
    "\n",
    "F = \n",
    "\\begin{bmatrix}\n",
    "  p(x,y) \\\\\n",
    "  q(x,y)\n",
    "\\end{bmatrix}\n",
    "=\n",
    "\\begin{bmatrix}\n",
    "  -x^{4}+7.7x^{3}-18x^{2}+13.6x - y \\\\\n",
    "  -x^{2}+5x+0.75 - y\n",
    "\\end{bmatrix}\n",
    "\n",
    "$$"
   ]
  },
  {
   "cell_type": "markdown",
   "metadata": {},
   "source": [
    "$$\n",
    "\n",
    "J = \n",
    "\\begin{bmatrix}\n",
    "  \\partial_{x}p(x,y) & \\partial_{y}p(x,y) \\\\\n",
    "  \\partial_{x}q(x,y) & \\partial_{y}q(x,y)\n",
    "\\end{bmatrix}\n",
    "=\n",
    "\\begin{bmatrix}\n",
    "  -4x^3 + 23.1x^2 - 36x + 13.6 & -1 \\\\\n",
    "  -2x + 5 & -1 \n",
    "\\end{bmatrix}\n",
    "\n",
    "\n",
    "$$"
   ]
  },
  {
   "cell_type": "markdown",
   "metadata": {},
   "source": [
    "E nosso sistema linear (iterativo em $k = 1, 2,... N$) é dado por\n",
    "\n",
    "$$\n",
    "J(x_k)v_k = -F(x_k)\n",
    "$$"
   ]
  },
  {
   "cell_type": "code",
   "execution_count": 79,
   "metadata": {},
   "outputs": [
    {
     "name": "stdout",
     "output_type": "stream",
     "text": [
      "[3.1729163  6.54718365]\n"
     ]
    }
   ],
   "source": [
    "fz = FuncZeros(max_it=5, epsilon=0.001)\n",
    "\n",
    "f1 = lambda x1, x2 : -x1**4 + 7.7*(x1**3) - 18*(x1**2) + 13.6*x1 - x2\n",
    "f2 = lambda x1, x2 : -x1**2 + 5*x1 + 0.75 - x2\n",
    "\n",
    "funcs = lambda x1, x2 : np.array([\n",
    "  f1(x1, x2), f2(x1, x2)\n",
    "])\n",
    "\n",
    "j11 = lambda x1 : -4*(x1**3) + 23.1*(x1**2) - 36*x1 + 13.6\n",
    "j12 = -1\n",
    "j21 = lambda x1 : -2*x1 + 5\n",
    "j22 = -1\n",
    "\n",
    "jacobian = lambda x1, x2 : np.array([\n",
    "  [j11(x1), j12],\n",
    "  [j21(x1), j22]\n",
    "])\n",
    "\n",
    "x0 = np.array([3.2, 6.])\n",
    "x1 = fz.newton_jacobian(funcs, jacobian, x0)\n",
    "print(x1)\n"
   ]
  },
  {
   "cell_type": "markdown",
   "metadata": {},
   "source": [
    "Sendo compatível com o resultado do método utilizado na questão 3a"
   ]
  },
  {
   "cell_type": "code",
   "execution_count": 80,
   "metadata": {},
   "outputs": [
    {
     "name": "stdout",
     "output_type": "stream",
     "text": [
      "[3.86007415 3.1729163  0.55708788 0.10992166]\n"
     ]
    }
   ],
   "source": [
    "# Zeros calculados como valores esperados\n",
    "#  usando coeficientes do polinomio -x^4 + 7.7x^3 - 17x^2 + 8.6x - 0.75 = 0\n",
    "x_expect = np.roots([-1, 7.7, -17, 8.6, -0.75])\n",
    "print(x_expect)"
   ]
  },
  {
   "cell_type": "code",
   "execution_count": 81,
   "metadata": {},
   "outputs": [
    {
     "name": "stdout",
     "output_type": "stream",
     "text": [
      "3.17291630469725\n"
     ]
    }
   ],
   "source": [
    "# Pegando apenas o segundo valor de x0 tal que f(x0) = 0\n",
    "x0_expect = x_expect[1]\n",
    "print(x0_expect)"
   ]
  },
  {
   "cell_type": "code",
   "execution_count": 85,
   "metadata": {},
   "outputs": [
    {
     "name": "stdout",
     "output_type": "stream",
     "text": [
      "Erro Bis           Erro Newton          n                        \n",
      "0.02291630         0.01137784           1   \n",
      "0.00208370         0.00009244           2   \n",
      "0.01041630         0.00000001           3   \n",
      "0.00416630         0.00000001           4   \n",
      "0.00104130         0.00000001           5   \n",
      "0.00052120         0.00000001           6   \n",
      "0.00026005         0.00000001           7   \n"
     ]
    }
   ],
   "source": [
    "fz = FuncZeros(epsilon=0.001, forceReturnResult=True)\n",
    "\n",
    "x0 = np.array([1,0,0,0,0,0])\n",
    "\n",
    "y = []\n",
    "for i in range(1, 8):\n",
    "    fz.MAX_ITERATION = i\n",
    "\n",
    "    # MÉTODO BISSEÇÃO\n",
    "    p = lambda x : -x**4+7.7*(x**3)-18*(x**2)+13.6*x\n",
    "    q = lambda x : -x**2+5*x+0.75\n",
    "\n",
    "    f = lambda x : -x**4 + 7.7*(x**3) - 17*(x**2) + 8.6*x - 0.75\n",
    "    a = 3\n",
    "    b = 3.2\n",
    "    x0 = fz.bissection(f, a, b)\n",
    "\n",
    "    bissection = x0\n",
    "    normB = abs(x0_expect - bissection)\n",
    "\n",
    "    # MÉTODO NEWTON\n",
    "    f1 = lambda x1, x2 : -x1**4 + 7.7*(x1**3) - 18*(x1**2) + 13.6*x1 - x2\n",
    "    f2 = lambda x1, x2 : -x1**2 + 5*x1 + 0.75 - x2\n",
    "\n",
    "    funcs = lambda x1, x2 : np.array([\n",
    "    f1(x1, x2), f2(x1, x2)\n",
    "    ])\n",
    "\n",
    "    j11 = lambda x1 : -4*(x1**3) + 23.1*(x1**2) - 36*x1 + 13.6\n",
    "    j12 = -1\n",
    "    j21 = lambda x1 : -2*x1 + 5\n",
    "    j22 = -1\n",
    "\n",
    "    jacobian = lambda x1, x2 : np.array([\n",
    "    [j11(x1), j12],\n",
    "    [j21(x1), j22]\n",
    "    ])\n",
    "\n",
    "    x0 = np.array([3, 6.])\n",
    "    x1 = fz.newton_jacobian(funcs, jacobian, x0)\n",
    "    \n",
    "    NewtonJacobian = x1[0]\n",
    "    normNJ = abs(x0_expect - NewtonJacobian)\n",
    "\n",
    "    # Armazenar em y o resultado das normas Ax - b\n",
    "    #  para GJ (Gauss-Jacobi) e GS (Gauss-Seidel) \n",
    "    y.append([normB, normNJ, i])\n",
    "\n",
    "# Para visualização, mostrar os 15 primeiros valores da tabela com o cabeçalho 'h'\n",
    "h = ['Erro Bis', 'Erro Newton', 'n']\n",
    "print('{:<18s} {:<20s} {:<25s}'.format(*h))\n",
    "for val in y[:15]:\n",
    "    print('{:.8f} {:^26.8f} {:^6}'.format(*val))"
   ]
  },
  {
   "cell_type": "code",
   "execution_count": 91,
   "metadata": {},
   "outputs": [
    {
     "data": {
      "image/png": "[encoded data removed]",
      "text/plain": [
       "<Figure size 2000x1000 with 1 Axes>"
      ]
     },
     "metadata": {},
     "output_type": "display_data"
    }
   ],
   "source": [
    "fig, ax = plt.subplots(1,1, figsize=(20,10))\n",
    "horiz = [y[i][2] for i in range(len(y))]\n",
    "\n",
    "fig.suptitle('Convergência de soluções. Erro x Nro. Iterações', fontsize=20)\n",
    "\n",
    "ax.plot(horiz, [y[i][0] for i in range(len(y))], '-bo', label='Bisseção')\n",
    "ax.plot(horiz, [y[i][1] for i in range(len(y))], '-ro', label='Newton')\n",
    "ax.hlines(1E-3, 0, 8, linestyle='dashed', colors='black', label='Erro = 1E-3')\n",
    "\n",
    "ax.set_xlabel('Iteração', {'size': 15})\n",
    "ax.set_ylabel('Erro', {'size': 15})\n",
    "ax.legend(title='Método', title_fontsize=13)\n",
    "\n",
    "ax.set_xlim(-0.001,)\n",
    "\n",
    "plt.show()"
   ]
  },
  {
   "cell_type": "markdown",
   "metadata": {},
   "source": [
    "Notamos que o método de newton converge a uma taxa mais elevada que o méotodo da bisseção. Isso porque Newton consiste de algoritmo de ponto fixo, cuja ordem de convergência é quadrática, diferente da bisseção, cuja ordem de convergência é linear"
   ]
  }
 ],
 "metadata": {
  "kernelspec": {
   "display_name": "Python 3",
   "language": "python",
   "name": "python3"
  },
  "language_info": {
   "codemirror_mode": {
    "name": "ipython",
    "version": 3
   },
   "file_extension": ".py",
   "mimetype": "text/x-python",
   "name": "python",
   "nbconvert_exporter": "python",
   "pygments_lexer": "ipython3",
   "version": "3.11.1"
  }
 },
 "nbformat": 4,
 "nbformat_minor": 2
}
